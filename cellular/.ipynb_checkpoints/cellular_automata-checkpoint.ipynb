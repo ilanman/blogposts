{
 "cells": [
  {
   "cell_type": "code",
   "execution_count": 1,
   "metadata": {
    "collapsed": false
   },
   "outputs": [
    {
     "name": "stderr",
     "output_type": "stream",
     "text": [
      "/Library/Python/2.7/site-packages/matplotlib/font_manager.py:273: UserWarning: Matplotlib is building the font cache using fc-list. This may take a moment.\n",
      "  warnings.warn('Matplotlib is building the font cache using fc-list. This may take a moment.')\n"
     ]
    }
   ],
   "source": [
    "import matplotlib.pyplot as plt\n",
    "from  matplotlib.ticker import IndexLocator, NullFormatter\n",
    "%matplotlib inline\n",
    "import numpy as np\n",
    "import seaborn as sns\n",
    "from matplotlib import animation, rcParams\n",
    "rcParams.update({'figure.autolayout': True})"
   ]
  },
  {
   "cell_type": "code",
   "execution_count": 2,
   "metadata": {
    "collapsed": true
   },
   "outputs": [],
   "source": [
    "def rule_index(left, mid, right):    \n",
    "    return int(str(left) + str(mid) + str(right),2)"
   ]
  },
  {
   "cell_type": "code",
   "execution_count": 3,
   "metadata": {
    "collapsed": true
   },
   "outputs": [],
   "source": [
    "def next_generation(rule, current_gen):\n",
    "    \n",
    "    next_gen = np.zeros(len(current_gen))\n",
    "    ruleset = format(rule,'08b')\n",
    "    \n",
    "    for i in range(len(current_gen)-1):\n",
    "        left = current_gen[i-1]\n",
    "        mid = current_gen[i]\n",
    "        right = current_gen[i+1]\n",
    "        \n",
    "        next_gen[i] = ruleset[::-1][rule_index(int(left), int(mid), int(right))]\n",
    "    \n",
    "    return next_gen"
   ]
  },
  {
   "cell_type": "code",
   "execution_count": 4,
   "metadata": {
    "collapsed": true
   },
   "outputs": [],
   "source": [
    "def make_ca(rule, init, niter):\n",
    "\n",
    "    temp_gen = init\n",
    "    current_generation = np.zeros(len(init)*niter).reshape(niter,len(init))\n",
    "    current_generation[0] = init\n",
    "    for i in range(1,niter):\n",
    "        current_generation[i] = next_generation(rule, temp_gen)\n",
    "        temp_gen = current_generation[i]\n",
    "    \n",
    "    return current_generation"
   ]
  },
  {
   "cell_type": "code",
   "execution_count": 5,
   "metadata": {
    "collapsed": false
   },
   "outputs": [],
   "source": [
    "def plot_grid(rule, grid, ax=None):\n",
    "    if ax is None:\n",
    "        ax = plt.subplot(111)\n",
    "    with sns.axes_style(\"white\"):\n",
    "        ax.grid(True, which='major', color='grey', linewidth=0.5)\n",
    "        ax.imshow(grid, interpolation='none', cmap='Greys', aspect=1, alpha=0.8)\n",
    "        ax.xaxis.set_major_locator(IndexLocator(1, 0))\n",
    "        ax.yaxis.set_major_locator(IndexLocator(1, 0))\n",
    "        ax.xaxis.set_major_formatter( NullFormatter() )\n",
    "        ax.yaxis.set_major_formatter( NullFormatter() )"
   ]
  },
  {
   "cell_type": "code",
   "execution_count": 17,
   "metadata": {
    "collapsed": false
   },
   "outputs": [
    {
     "data": {
      "image/png": "[encoded data removed]",
      "text/plain": [
       "<matplotlib.figure.Figure at 0x11711f810>"
      ]
     },
     "metadata": {},
     "output_type": "display_data"
    }
   ],
   "source": [
    "niter = 30\n",
    "width = niter*2+1\n",
    "init = np.zeros(width, 'int')\n",
    "init[width//2] = 1\n",
    "\n",
    "def animate(x):\n",
    "    rule = 214\n",
    "    grid = make_ca(rule, init, x)\n",
    "    plot_grid(rule, grid)\n",
    "    \n",
    "fig = plt.figure()\n",
    "anim = animation.FuncAnimation(fig, animate, frames=range(1,niter), interval=1, blit=False)\n",
    "anim.save('rule214.gif', writer='imagemagick', fps=5)\n",
    "plt.show()"
   ]
  },
  {
   "cell_type": "code",
   "execution_count": null,
   "metadata": {
    "collapsed": true
   },
   "outputs": [],
   "source": []
  }
 ],
 "metadata": {
  "kernelspec": {
   "display_name": "Python 2",
   "language": "python",
   "name": "python2"
  },
  "language_info": {
   "codemirror_mode": {
    "name": "ipython",
    "version": 2
   },
   "file_extension": ".py",
   "mimetype": "text/x-python",
   "name": "python",
   "nbconvert_exporter": "python",
   "pygments_lexer": "ipython2",
   "version": "2.7.10"
  }
 },
 "nbformat": 4,
 "nbformat_minor": 0
}
